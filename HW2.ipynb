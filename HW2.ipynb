{
  "cells": [
    {
      "cell_type": "markdown",
      "metadata": {
        "id": "view-in-github",
        "colab_type": "text"
      },
      "source": [
        "<a href=\"https://colab.research.google.com/github/qazwsx351789/DEEP-LEARNING-FOR-BIG-VISUAL-DATA/blob/main/HW2.ipynb\" target=\"_parent\"><img src=\"https://colab.research.google.com/assets/colab-badge.svg\" alt=\"Open In Colab\"/></a>"
      ]
    },
    {
      "cell_type": "markdown",
      "metadata": {
        "id": "Le7KyRKU4rc9"
      },
      "source": [
        "## Problem 1"
      ]
    },
    {
      "cell_type": "code",
      "execution_count": null,
      "metadata": {
        "id": "PhjLGc96WSFE"
      },
      "outputs": [],
      "source": [
        "import torch"
      ]
    },
    {
      "cell_type": "code",
      "source": [
        "print(torch.__version__, torch.cuda.is_available())\n",
        "!gcc --version"
      ],
      "metadata": {
        "id": "p3ImuvouWZfL",
        "outputId": "09521d1b-e101-4610-e4b9-f4f2f90b10bc",
        "colab": {
          "base_uri": "https://localhost:8080/"
        }
      },
      "execution_count": null,
      "outputs": [
        {
          "output_type": "stream",
          "name": "stdout",
          "text": [
            "2.0.0+cu118 True\n",
            "gcc (Ubuntu 9.4.0-1ubuntu1~20.04.1) 9.4.0\n",
            "Copyright (C) 2019 Free Software Foundation, Inc.\n",
            "This is free software; see the source for copying conditions.  There is NO\n",
            "warranty; not even for MERCHANTABILITY or FITNESS FOR A PARTICULAR PURPOSE.\n",
            "\n"
          ]
        }
      ]
    },
    {
      "cell_type": "markdown",
      "metadata": {
        "id": "XsY1xCq5FVKS"
      },
      "source": [
        "### (a) Tensor"
      ]
    },
    {
      "cell_type": "markdown",
      "metadata": {
        "id": "i8w_eeTTmKc8"
      },
      "source": [
        "Construct an uninitialized 4x4 matrix:\n",
        "\n",
        "\n",
        "\n"
      ]
    },
    {
      "cell_type": "code",
      "execution_count": null,
      "metadata": {
        "colab": {
          "base_uri": "https://localhost:8080/"
        },
        "id": "iupWY0T38vB2",
        "outputId": "b50a1e68-bbe0-48bc-876c-4e04ac44e4fd"
      },
      "outputs": [
        {
          "name": "stdout",
          "output_type": "stream",
          "text": [
            "tensor([[4.6665e-27, 4.5593e-41, 4.6665e-27, 4.5593e-41],\n",
            "        [0.0000e+00, 0.0000e+00, 0.0000e+00, 0.0000e+00],\n",
            "        [2.0068e-27, 4.5593e-41, 2.0076e-27, 4.5593e-41],\n",
            "        [3.1898e+01, 2.0422e+32, 2.1293e-27, 4.5593e-41]])\n"
          ]
        }
      ],
      "source": [
        "# todo\n",
        "x = torch.empty(4,4)\n",
        "print(x)"
      ]
    },
    {
      "cell_type": "markdown",
      "metadata": {
        "id": "6t3ZpPvhmNyR"
      },
      "source": [
        "Construct a randomly initialized 3x3 matrix from a uniform distribution on the interval [0, 10)"
      ]
    },
    {
      "cell_type": "code",
      "execution_count": null,
      "metadata": {
        "colab": {
          "base_uri": "https://localhost:8080/"
        },
        "id": "Eb_e-WVZmTSR",
        "outputId": "90c583f6-29c1-4455-d0e2-f8ba7639ac3c"
      },
      "outputs": [
        {
          "name": "stdout",
          "output_type": "stream",
          "text": [
            "tensor([[0.5900, 2.9652, 4.4322],\n",
            "        [9.0550, 4.4569, 9.6509],\n",
            "        [1.2318, 2.1274, 5.6474]])\n"
          ]
        }
      ],
      "source": [
        "# todo\n",
        "x = torch.rand(3,3)*10\n",
        "print(x)"
      ]
    },
    {
      "cell_type": "markdown",
      "metadata": {
        "id": "IQ-ovXhOmVLy"
      },
      "source": [
        "Construct a 2x2 matrix filled zeros with data type float32:"
      ]
    },
    {
      "cell_type": "code",
      "execution_count": null,
      "metadata": {
        "colab": {
          "base_uri": "https://localhost:8080/"
        },
        "id": "KpmSWypymXF5",
        "outputId": "b84403bd-28a1-403a-839d-51ed220fa030"
      },
      "outputs": [
        {
          "name": "stdout",
          "output_type": "stream",
          "text": [
            "tensor([[0., 0.],\n",
            "        [0., 0.]])\n"
          ]
        }
      ],
      "source": [
        "# todo\n",
        "x = torch.zeros(2,2,dtype = torch.float32)\n",
        "print(x)"
      ]
    },
    {
      "cell_type": "markdown",
      "metadata": {
        "id": "PKEXn8g2Y1la"
      },
      "source": [
        "Construct a 2x2 matrix from the normal distribution with zero mean and one\n",
        "std with the same shape as x.\n",
        "\n",
        "y's data type should be float32.\n",
        "\n",
        "Print the size of x and y."
      ]
    },
    {
      "cell_type": "code",
      "execution_count": null,
      "metadata": {
        "colab": {
          "base_uri": "https://localhost:8080/"
        },
        "id": "96HTBfZZZOfF",
        "outputId": "7c4c26ce-4adf-4a14-c2e5-9856c472ff5f"
      },
      "outputs": [
        {
          "name": "stdout",
          "output_type": "stream",
          "text": [
            "tensor([[ 1.0035, -0.7451],\n",
            "        [ 0.0139, -1.5806]])\n",
            "torch.Size([5, 5]) torch.Size([2, 2])\n"
          ]
        }
      ],
      "source": [
        "x = torch.ones(5, 5, dtype=torch.float64)\n",
        "# todo\n",
        "y = torch.randn_like(x[:2, :2],dtype=torch.float32)\n",
        "\n",
        "print(y)\n",
        "# todo: print the size of x and y\n",
        "print(x.shape,y.shape)"
      ]
    },
    {
      "cell_type": "markdown",
      "metadata": {
        "id": "iNdFynRZnOWR"
      },
      "source": [
        "### (b) Operations"
      ]
    },
    {
      "cell_type": "markdown",
      "metadata": {
        "id": "P_paGZd0aCRd"
      },
      "source": [
        "Addition: Print x + y"
      ]
    },
    {
      "cell_type": "code",
      "execution_count": null,
      "metadata": {
        "colab": {
          "base_uri": "https://localhost:8080/"
        },
        "id": "nMaomyi5m4s7",
        "outputId": "38b98782-e77b-4660-bcd0-c7dfec931795"
      },
      "outputs": [
        {
          "name": "stdout",
          "output_type": "stream",
          "text": [
            "tensor([[1., 2.],\n",
            "        [3., 4.]])\n",
            "tensor([[4., 5.],\n",
            "        [6., 7.]])\n",
            "tensor([[ 5.,  7.],\n",
            "        [ 9., 11.]])\n"
          ]
        }
      ],
      "source": [
        "x = torch.tensor([[1., 2.], [3., 4.]])\n",
        "y = torch.arange(4, 8, dtype=torch.float32).reshape(2, 2)\n",
        "print(x)\n",
        "print(y)\n",
        "# todo\n",
        "print(x+y)"
      ]
    },
    {
      "cell_type": "markdown",
      "metadata": {
        "id": "PDjNjqERnwQc"
      },
      "source": [
        "Addition: add y and x inplace (modify y)"
      ]
    },
    {
      "cell_type": "code",
      "execution_count": null,
      "metadata": {
        "colab": {
          "base_uri": "https://localhost:8080/"
        },
        "id": "4ggwAdTinx2R",
        "outputId": "67f5c106-af18-4dab-be25-ebb9a523eb32"
      },
      "outputs": [
        {
          "name": "stdout",
          "output_type": "stream",
          "text": [
            "tensor([[ 5.,  7.],\n",
            "        [ 9., 11.]])\n"
          ]
        }
      ],
      "source": [
        "x = torch.tensor([[1., 2.], [3., 4.]])\n",
        "y = torch.arange(4, 8, dtype=torch.float32).reshape(2, 2)\n",
        "\n",
        "# todo: adds x to y\n",
        "y.add_(x)\n",
        "print(y)"
      ]
    },
    {
      "cell_type": "markdown",
      "metadata": {
        "id": "x4v0ZJYXbHpc"
      },
      "source": [
        "Indexing\n",
        "\n",
        "In this part, you will use indexing techniques to access part of data store in tensor **x**.\n",
        "x is a 3x3x3 matrix.\n",
        "\n",
        "For simplicity, we let (a, b, c) represents the a-th in the first axis, b-th in the second axis and c-th in the third axis, a, b and c start from 0,\n",
        "\n",
        "e.g get x at (0, 1, 1) is to get the first in the first axis, second in the second axis and second in the third axis of x, which returns 5.\n",
        "\n",
        "We also let getting x at (0:2, 1, 1) mean get the first two rows in the first axis, second in the second axis and second in the third axis.\n",
        "\n",
        "Hint: You should use standard NumPy-like indexing.\n"
      ]
    },
    {
      "cell_type": "code",
      "execution_count": null,
      "metadata": {
        "colab": {
          "base_uri": "https://localhost:8080/"
        },
        "id": "p3b8frAGbXKp",
        "outputId": "b110b016-76ac-48a3-a66d-f500a8911176"
      },
      "outputs": [
        {
          "name": "stdout",
          "output_type": "stream",
          "text": [
            "tensor([[[ 1,  2,  3],\n",
            "         [ 4,  5,  6],\n",
            "         [ 7,  8,  9]],\n",
            "\n",
            "        [[10, 11, 12],\n",
            "         [13, 14, 15],\n",
            "         [16, 17, 18]],\n",
            "\n",
            "        [[19, 20, 21],\n",
            "         [22, 23, 24],\n",
            "         [25, 26, 27]]], dtype=torch.int32)\n",
            "tensor(5, dtype=torch.int32)\n",
            "tensor([ 5, 14], dtype=torch.int32)\n"
          ]
        }
      ],
      "source": [
        "x = torch.arange(1, 28, dtype=torch.int32).reshape(3, 3, 3)\n",
        "print(x)\n",
        "# Example: get (0, 1, 1) of x\n",
        "print(x[0, 1, 1])\n",
        "# Example: get (0:2, 1, 1) of x\n",
        "print(x[0:2, 1, 1])"
      ]
    },
    {
      "cell_type": "code",
      "execution_count": null,
      "metadata": {
        "colab": {
          "base_uri": "https://localhost:8080/"
        },
        "id": "PU9HTsMRbRVW",
        "outputId": "339a996a-0021-404e-b609-096d335bfc28"
      },
      "outputs": [
        {
          "name": "stdout",
          "output_type": "stream",
          "text": [
            "tensor(17, dtype=torch.int32)\n",
            "tensor([5, 8], dtype=torch.int32)\n",
            "tensor([[[11, 12],\n",
            "         [14, 15],\n",
            "         [17, 18]],\n",
            "\n",
            "        [[20, 21],\n",
            "         [23, 24],\n",
            "         [26, 27]]], dtype=torch.int32)\n"
          ]
        }
      ],
      "source": [
        "# todo: get (1, 2, 1) of x\n",
        "print(x[1, 2, 1])\n",
        "# todo: get (0, 1:3, 1) of x\n",
        "print(x[0, 1:3, 1])\n",
        "# todo: get (1:3, 0:3, 1:3) of x\n",
        "print(x[1:3, 0:3, 1:3])"
      ]
    },
    {
      "cell_type": "markdown",
      "metadata": {
        "id": "XqILDc6Dn5_y"
      },
      "source": [
        "Resizing"
      ]
    },
    {
      "cell_type": "code",
      "execution_count": null,
      "metadata": {
        "colab": {
          "base_uri": "https://localhost:8080/"
        },
        "id": "_IHNWtSjn7zW",
        "outputId": "262ce75b-eed7-4472-a215-a4e7c866644a"
      },
      "outputs": [
        {
          "name": "stdout",
          "output_type": "stream",
          "text": [
            "tensor([ 0,  1,  2,  3,  4,  5,  6,  7,  8,  9, 10, 11])\n",
            "tensor([[ 0,  1,  2,  3],\n",
            "        [ 4,  5,  6,  7],\n",
            "        [ 8,  9, 10, 11]])\n",
            "tensor([[ 0,  1,  2],\n",
            "        [ 3,  4,  5],\n",
            "        [ 6,  7,  8],\n",
            "        [ 9, 10, 11]])\n"
          ]
        }
      ],
      "source": [
        "A = torch.arange(12)\n",
        "print(A)\n",
        "\n",
        "# todo: resize A to 3x4 using view\n",
        "A=A.view(3,4)\n",
        "print(A)\n",
        "# todo: resize A to 4x3 using reshape\n",
        "A=A.reshape(4,3)\n",
        "print(A)\n"
      ]
    },
    {
      "cell_type": "markdown",
      "metadata": {
        "id": "MjIyg0k7jSJu"
      },
      "source": [
        "Question: what is the difference between view and reshape of a tensor?"
      ]
    },
    {
      "cell_type": "markdown",
      "metadata": {
        "id": "TWx4gY2di0CQ"
      },
      "source": [
        "view()  is only applicable to tensors that meet the continuity conditions, and this operation will not open up new memory space.\n",
        "\n",
        "reshape() returns a new tensor that has the same data as the original tensor, but the data is laid out in a new shape"
      ]
    },
    {
      "cell_type": "markdown",
      "metadata": {
        "id": "Z_LRanfFLDav"
      },
      "source": [
        "## Problem 2"
      ]
    },
    {
      "cell_type": "markdown",
      "metadata": {
        "id": "_UnzKwFZXBow"
      },
      "source": [
        "### (a) Prepare MNIST dataset\n",
        "\n",
        "Download MNIST dataset `mnist.mat` from the [google drive link](https://drive.google.com/file/d/13BJmpfohMGthH9gGRYgxMyBk3Y2J8vE8/view?usp=sharing) and put into your Google Drive.\n",
        "Mount your Google Drive to this notebook."
      ]
    },
    {
      "cell_type": "code",
      "execution_count": null,
      "metadata": {
        "id": "2862HRnVLHSo"
      },
      "outputs": [],
      "source": [
        "# Show matplotlib graphs in your notebook\n",
        "%matplotlib inline"
      ]
    },
    {
      "cell_type": "code",
      "execution_count": null,
      "metadata": {
        "colab": {
          "base_uri": "https://localhost:8080/"
        },
        "id": "Zz6Q1adZL3kU",
        "outputId": "28272fca-b462-4f56-8661-30edd6f00cb5"
      },
      "outputs": [
        {
          "output_type": "stream",
          "name": "stdout",
          "text": [
            "Mounted at /content/gdrive\n"
          ]
        }
      ],
      "source": [
        "# Mount your Google Drive to this notebook.\n",
        "from google.colab import drive\n",
        "drive.mount('/content/gdrive')"
      ]
    },
    {
      "cell_type": "markdown",
      "metadata": {
        "id": "RmAN2QJyLDax"
      },
      "source": [
        "Load MNIST dataset from your Google Drive.\n",
        "\n",
        "Different from HW1, we downsample the data from 28x28 to 14x14.\n",
        "The training data (images) are contained in a matrix called `mnist['traindata']` with labels called `mnist['trainlabels']`. The testing data are in `mnist['testdata']`."
      ]
    },
    {
      "cell_type": "code",
      "execution_count": null,
      "metadata": {
        "colab": {
          "base_uri": "https://localhost:8080/"
        },
        "id": "Al08q_GmLDax",
        "outputId": "3d94e917-a9e9-4a49-e641-185a2813b489"
      },
      "outputs": [
        {
          "output_type": "stream",
          "name": "stderr",
          "text": [
            "/usr/local/lib/python3.10/dist-packages/torchvision/transforms/functional.py:1603: UserWarning: The default value of the antialias parameter of all the resizing transforms (Resize(), RandomResizedCrop(), etc.) will change from None to True in v0.17, in order to be consistent across the PIL and Tensor backends. To suppress this warning, directly pass antialias=True (recommended, future default), antialias=None (current default, which means False for Tensors and True for PIL), or antialias=False (only works on Tensors - PIL will still use antialiasing). This also applies if you are using the inference transforms from the models weights: update the call to weights.transforms(antialias=True).\n",
            "  warnings.warn(\n"
          ]
        },
        {
          "output_type": "stream",
          "name": "stdout",
          "text": [
            "torch.Size([50000, 1, 14, 14])\n",
            "torch.Size([50000])\n",
            "torch.Size([10000, 1, 14, 14])\n",
            "torch.Size([10000])\n",
            "torch.Size([10000, 1, 14, 14])\n"
          ]
        }
      ],
      "source": [
        "from scipy.io import loadmat\n",
        "import torch\n",
        "import torchvision.transforms as T\n",
        "\n",
        "\n",
        "mnist = loadmat('/content/gdrive/My Drive/Data/mnist_2.mat') # change the file path according to the path where you put mnist.mat on your Google Drive.\n",
        "\n",
        "# convert data to torch, normalize and reshape\n",
        "data = torch.reshape(torch.from_numpy(mnist['traindata']).to(torch.float)/255.0 - 0.5, (mnist['traindata'].shape[0], 1, 28, 28))\n",
        "testdata = torch.reshape(torch.from_numpy(mnist['testdata']).to(torch.float)/255.0 - 0.5, (mnist['testdata'].shape[0], 1, 28, 28))\n",
        "\n",
        "trainlabels = torch.from_numpy(mnist['trainlabels'].ravel()[:50000])\n",
        "validlabels = torch.from_numpy(mnist['trainlabels'].ravel()[50000:])\n",
        "\n",
        "resize = T.Resize((14,14))\n",
        "data = resize(data)\n",
        "testdata = resize(testdata)\n",
        "traindata = data[:50000]\n",
        "validdata = data[50000:]\n",
        "\n",
        "\n",
        "print(traindata.shape)\n",
        "print(trainlabels.shape)\n",
        "print(validdata.shape)\n",
        "print(validlabels.shape)\n",
        "print(testdata.shape)"
      ]
    },
    {
      "cell_type": "code",
      "execution_count": null,
      "metadata": {
        "id": "k8OJw5cUlv0J"
      },
      "outputs": [],
      "source": [
        "from torch.utils.data import TensorDataset, DataLoader\n",
        "\n",
        "mnist_train = TensorDataset(traindata, trainlabels)\n",
        "mnist_valid = TensorDataset(validdata, validlabels)\n",
        "mnist_valid_loader = DataLoader(mnist_valid, batch_size=128)"
      ]
    },
    {
      "cell_type": "markdown",
      "metadata": {
        "id": "Jjj79ZkVLDa0"
      },
      "source": [
        "\n",
        "\n",
        "Visualize an image with label."
      ]
    },
    {
      "cell_type": "code",
      "execution_count": null,
      "metadata": {
        "colab": {
          "base_uri": "https://localhost:8080/",
          "height": 831
        },
        "id": "xbRf0yp5LDa1",
        "outputId": "d9712ac7-7dbd-4cb7-f7fb-29013b6d3ef3"
      },
      "outputs": [
        {
          "output_type": "display_data",
          "data": {
            "text/plain": [
              "<Figure size 1200x1200 with 25 Axes>"
            ],
            "image/png": "[encoded data removed]"
          },
          "metadata": {}
        }
      ],
      "source": [
        "import matplotlib.pyplot as plt\n",
        "from matplotlib import cm\n",
        "\n",
        "fig, axs = plt.subplots(5, 5, figsize = (12, 12))\n",
        "plt.gray()\n",
        "\n",
        "# loop through subplots and add mnist images\n",
        "for i, ax in enumerate(axs.flat):\n",
        "  ax.imshow((mnist_train[i][0] + 0.5 ).reshape((14, 14)), cmap=cm.gray_r)\n",
        "  ax.axis('off')\n",
        "  ax.set_title('Number {}'.format(trainlabels[i]))"
      ]
    },
    {
      "cell_type": "markdown",
      "metadata": {
        "id": "RxdJs7c3U2-7"
      },
      "source": [
        "(b) Multilayer Perceptron (MLP)\n",
        "\n",
        "Use MLP to achieve image classification.\n",
        "\n",
        "Define the following MLP using PyTorch to do image classification on MNIST dataset according to the below figure:\n",
        "Number of hidden layers: 3\n",
        "Number of neurons in the layers: [100, 50, 20]\n",
        "Activation functions: ReLU()\n",
        "Dropout for all hidden layers: 30%\n",
        "Output layer + softmax\n"
      ]
    },
    {
      "cell_type": "markdown",
      "metadata": {
        "id": "B87-tX7aVSQi"
      },
      "source": [
        "![Screen Shot 2022-09-23 at 11.48.00 AM.png](data:image/png;base64,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)"
      ]
    },
    {
      "cell_type": "markdown",
      "metadata": {
        "id": "DQOoObWBSiKg"
      },
      "source": [
        "To feed the data into the MLP, each image with dim of $1 \\times 14 \\times 14$ needs to be flatten into a vector with dim of $196.\n",
        "\n",
        "Just like how you transfer a Tensor onto the GPU, you transfer the neural net onto the GPU. Let's first define our device as the first visible cuda device if we have CUDA available.\n",
        "\n",
        "**Note**: remember to keep the logs of training the different models."
      ]
    },
    {
      "cell_type": "code",
      "execution_count": null,
      "metadata": {
        "colab": {
          "base_uri": "https://localhost:8080/"
        },
        "id": "yvbWQt2Qv28G",
        "outputId": "6852f713-f1f4-4a05-c6ba-4ab7acc39256"
      },
      "outputs": [
        {
          "output_type": "stream",
          "name": "stdout",
          "text": [
            "cuda:0\n"
          ]
        }
      ],
      "source": [
        "# use GPU to train if possible\n",
        "import torch\n",
        "device = torch.device(\"cuda:0\" if torch.cuda.is_available() else \"cpu\")\n",
        "print(device)\n",
        "device = 'cpu'"
      ]
    },
    {
      "cell_type": "code",
      "execution_count": null,
      "metadata": {
        "id": "OHGFYOm8emtA"
      },
      "outputs": [],
      "source": [
        "# from torch.autograd.grad_mode import F\n",
        "import torch.nn as nn\n",
        "\n",
        "class MLP(nn.Module):\n",
        "  def __init__(self):\n",
        "    super(MLP, self).__init__()\n",
        "    # TODO: define your MLP\n",
        "    self.fc1 = nn.Linear(1*14*14,100)\n",
        "    self.fc2 = nn.Linear(100,50)\n",
        "    self.fc3 = nn.Linear(50,20)\n",
        "    self.fc4 = nn.Linear(20,10)\n",
        "    self.dropout = nn.Dropout(p=0.3)\n",
        "\n",
        "  def forward(self, x):\n",
        "    # TODO: define your forward function\n",
        "    x =x.view(-1,self.num_flat_features(x))\n",
        "    x = nn.ReLU()(self.fc1(x))\n",
        "    x = self.dropout(x)\n",
        "    x = nn.ReLU()(self.fc2(x))\n",
        "    x = self.dropout(x)\n",
        "    x = nn.ReLU()(self.fc3(x))\n",
        "    x = self.dropout(x)\n",
        "    x = self.fc4(x)\n",
        "\n",
        "    return x\n",
        "  def num_flat_features(self, x):\n",
        "      size = x.size()[1:]\n",
        "      num_features = 1\n",
        "      for i in size:\n",
        "        num_features *= i\n",
        "      return num_features\n"
      ]
    },
    {
      "cell_type": "code",
      "execution_count": null,
      "metadata": {
        "colab": {
          "base_uri": "https://localhost:8080/"
        },
        "id": "B7_EFe9nGQYH",
        "outputId": "64012706-ef81-4a29-b099-7f99f2e40d64"
      },
      "outputs": [
        {
          "output_type": "stream",
          "name": "stdout",
          "text": [
            "\n",
            "tensor([[ 0.0158, -0.0502, -0.0264, -0.2100, -0.0292, -0.2127, -0.1034,  0.0010,\n",
            "         -0.0236, -0.0223]], grad_fn=<AddmmBackward0>)\n"
          ]
        }
      ],
      "source": [
        "\n",
        "mlp = MLP()\n",
        "print()\n",
        "input = torch.randn(1,1,14,14)\n",
        "out = mlp(input)\n",
        "print(out)"
      ]
    },
    {
      "cell_type": "code",
      "execution_count": null,
      "metadata": {
        "id": "Dg8_7Mzd45HA"
      },
      "outputs": [],
      "source": [
        "# TODO: write your training code\n",
        "def train(dataloader,model,loss_fn,optimizer):\n",
        "  device = 'cuda:0'\n",
        "  size = len(dataloader.dataset)\n",
        "  for batch,(X,y) in enumerate(dataloader):\n",
        "    X = X.to(device=device)\n",
        "    y = y.to(device=device)\n",
        "    pred = model(X)\n",
        "    loss = loss_fn(pred,y)\n",
        "\n",
        "    optimizer.zero_grad()\n",
        "    loss.backward()\n",
        "    optimizer.step()\n",
        "    if batch % 100 == 0:\n",
        "      loss, current = loss.item(), batch * len(X)\n",
        "      print(f\"loss: {loss:>7f} [{current:>5d}/{size:>5d}]\")\n",
        "\n",
        "# TODO: write your testing code\n",
        "def test(dataloader,model,loss_fn):\n",
        "  size = len(dataloader.dataset)\n",
        "  num_batches = len(dataloader)\n",
        "  test_loss,correct = 0 ,0\n",
        "\n",
        "  with torch.no_grad():\n",
        "    for x,y in dataloader:\n",
        "      pred = model(x)\n",
        "      test_loss += loss_fn(pred,y).item()\n",
        "      correct += (pred.argmax(1) == y).type(torch.float).sum().item()\n",
        "  test_loss /= num_batches\n",
        "  correct /= size\n",
        "  print(f\"Test Error: \\n Accuracy: {(100*correct):>0.1f}%,Avg loss: {test_loss:>8f} \\n\")\n"
      ]
    },
    {
      "cell_type": "code",
      "execution_count": null,
      "metadata": {
        "id": "kq7984jdBw_F"
      },
      "outputs": [],
      "source": [
        "mlp = MLP().to(device)  # operate on GPU"
      ]
    },
    {
      "cell_type": "markdown",
      "metadata": {
        "id": "nkkNxVUz7Ep1"
      },
      "source": [
        "Define a loss function and optimizer."
      ]
    },
    {
      "cell_type": "code",
      "execution_count": null,
      "metadata": {
        "id": "O6_ABQ1DfJgg"
      },
      "outputs": [],
      "source": [
        "import torch.optim as optim\n",
        "\n",
        "# TODO: you can change loss function and optimizer\n",
        "criterion = nn.CrossEntropyLoss()\n",
        "# criterion = nn.MSELoss()\n",
        "# optimizer = optim.SGD(mlp.parameters(), lr=0.001, weight_decay=0)\n",
        "optimizer = optim.Adam(mlp.parameters(), lr=0.001, betas=(0.9, 0.999), eps=1e-08, weight_decay=0)"
      ]
    },
    {
      "cell_type": "markdown",
      "metadata": {
        "id": "_axZ2tOWfe-Z"
      },
      "source": [
        "Train the network.\n",
        "\n",
        "This is when things start to get interesting.\n",
        "We simply have to loop over our data iterator, and feed the inputs to the\n",
        "network and optimize."
      ]
    },
    {
      "cell_type": "code",
      "execution_count": null,
      "metadata": {
        "colab": {
          "base_uri": "https://localhost:8080/"
        },
        "id": "6jd0fDQ39sfG",
        "outputId": "f8a1dca5-f32d-4592-f0e1-1a82fd80dc4c"
      },
      "outputs": [
        {
          "output_type": "stream",
          "name": "stdout",
          "text": [
            "loss: 2.317509 [    0/50000]\n",
            "loss: 1.688892 [12800/50000]\n",
            "loss: 1.004672 [25600/50000]\n",
            "loss: 0.986514 [38400/50000]\n",
            "loss: 0.840039 [    0/50000]\n",
            "loss: 0.777618 [12800/50000]\n",
            "loss: 0.713605 [25600/50000]\n",
            "loss: 0.660964 [38400/50000]\n",
            "loss: 0.517994 [    0/50000]\n",
            "loss: 0.590127 [12800/50000]\n",
            "loss: 0.546144 [25600/50000]\n",
            "loss: 0.498428 [38400/50000]\n",
            "loss: 0.358612 [    0/50000]\n",
            "loss: 0.473533 [12800/50000]\n",
            "loss: 0.452700 [25600/50000]\n",
            "loss: 0.438109 [38400/50000]\n",
            "loss: 0.393008 [    0/50000]\n",
            "loss: 0.379034 [12800/50000]\n",
            "loss: 0.316211 [25600/50000]\n",
            "loss: 0.462395 [38400/50000]\n",
            "loss: 0.340111 [    0/50000]\n",
            "loss: 0.397403 [12800/50000]\n",
            "loss: 0.493754 [25600/50000]\n",
            "loss: 0.327117 [38400/50000]\n",
            "loss: 0.267311 [    0/50000]\n",
            "loss: 0.436877 [12800/50000]\n",
            "loss: 0.333398 [25600/50000]\n",
            "loss: 0.278094 [38400/50000]\n",
            "loss: 0.327372 [    0/50000]\n",
            "loss: 0.450780 [12800/50000]\n",
            "loss: 0.329327 [25600/50000]\n",
            "loss: 0.323077 [38400/50000]\n",
            "loss: 0.263419 [    0/50000]\n",
            "loss: 0.274758 [12800/50000]\n",
            "loss: 0.340756 [25600/50000]\n",
            "loss: 0.302800 [38400/50000]\n",
            "loss: 0.226663 [    0/50000]\n",
            "loss: 0.315126 [12800/50000]\n",
            "loss: 0.398764 [25600/50000]\n",
            "loss: 0.448468 [38400/50000]\n"
          ]
        }
      ],
      "source": [
        "n_epoch = 10\n",
        "from torch.utils.data import DataLoader\n",
        "# todo: use your train() to train the model\n",
        "mnist_train_loader = DataLoader(mnist_train, batch_size=128)\n",
        "for epoch in range(n_epoch):\n",
        "  train(mnist_train_loader,mlp,criterion,optimizer)\n"
      ]
    },
    {
      "cell_type": "markdown",
      "metadata": {
        "id": "U0CP36AOgCQR"
      },
      "source": [
        "Save the trained model.\n",
        "See [here](https://pytorch.org/docs/stable/notes/serialization.html)\n",
        "for more details on saving PyTorch models."
      ]
    },
    {
      "cell_type": "code",
      "execution_count": null,
      "metadata": {
        "id": "spe6mioOgFPq"
      },
      "outputs": [],
      "source": [
        "PATH = '/content/gdrive/My Drive/mlp_mnist.pth'\n",
        "torch.save(mlp.state_dict(), PATH)"
      ]
    },
    {
      "cell_type": "markdown",
      "metadata": {
        "id": "ohEOKpQh7EqA"
      },
      "source": [
        "Load back in our saved model. (Note: saving and re-loading the model\n",
        "wasn't necessary here, we only did it to illustrate how to do so)\n",
        "\n"
      ]
    },
    {
      "cell_type": "code",
      "execution_count": null,
      "metadata": {
        "colab": {
          "base_uri": "https://localhost:8080/"
        },
        "id": "zdW5-7Rf7EqA",
        "outputId": "6a6c4472-a0f7-4e61-bbfb-72c635c575d2"
      },
      "outputs": [
        {
          "data": {
            "text/plain": [
              "<All keys matched successfully>"
            ]
          },
          "execution_count": 14,
          "metadata": {},
          "output_type": "execute_result"
        }
      ],
      "source": [
        "mlp = MLP().to(device)\n",
        "mlp.load_state_dict(torch.load(PATH))"
      ]
    },
    {
      "cell_type": "markdown",
      "metadata": {
        "id": "uiwCEPnm9kVN"
      },
      "source": [
        "Evaluate the classfication performance on the testing set."
      ]
    },
    {
      "cell_type": "code",
      "execution_count": null,
      "metadata": {
        "colab": {
          "base_uri": "https://localhost:8080/"
        },
        "id": "iRoECZtg9lBl",
        "outputId": "42269872-1578-42d1-ac5a-bad527d581fc"
      },
      "outputs": [
        {
          "name": "stdout",
          "output_type": "stream",
          "text": [
            "MLP(\n",
            "  (fc1): Linear(in_features=196, out_features=100, bias=True)\n",
            "  (fc2): Linear(in_features=100, out_features=50, bias=True)\n",
            "  (fc3): Linear(in_features=50, out_features=20, bias=True)\n",
            "  (fc4): Linear(in_features=20, out_features=10, bias=True)\n",
            "  (dropout): Dropout(p=0.3, inplace=False)\n",
            ")\n",
            "Test Error: \n",
            " Accuracy: 91.2%,Avg loss: 0.328359 \n",
            "\n"
          ]
        }
      ],
      "source": [
        "print(mlp)\n",
        "# todo: use your test() to test your MLP on val set\n",
        "test(mnist_valid_loader,mlp,criterion)\n"
      ]
    },
    {
      "cell_type": "markdown",
      "metadata": {
        "id": "x8YcAStPfmBM"
      },
      "source": [
        "(c) Convolution Neural Network (CNN)"
      ]
    },
    {
      "cell_type": "markdown",
      "metadata": {
        "id": "NXLrcdbivC5C"
      },
      "source": [
        "Built a LeNet-5 using PyTorch to do image classification. Develop the CNN from the PyTorch NN tutorial introduced in class.\n",
        "\n",
        "Note:\n",
        "1. The input image dimension shown in the figure below is different from the one we have in this problem.\n",
        "2. Use kernel size=3 for both convolutions (Original LeNet-5 uses kernel size=5 as shown in the Fig.3 of HW2.pdf)\n"
      ]
    },
    {
      "cell_type": "code",
      "execution_count": null,
      "metadata": {
        "id": "0nFR56-gvcgt"
      },
      "outputs": [],
      "source": [
        "import torch.nn as nn\n",
        "import torch.nn.functional as F\n",
        "\n",
        "class CNN(nn.Module):\n",
        "  def __init__(self):\n",
        "    super(CNN ,self).__init__()\n",
        "    # TODO: define your CNN\n",
        "    self.conv1 = nn.Conv2d(1,6,3)\n",
        "    self.conv2 = nn.Conv2d(6,16,3)\n",
        "    self.fc1 = nn.Linear(16*2*2, 50)\n",
        "    self.fc2 = nn.Linear(50, 20)\n",
        "    self.fc3 = nn.Linear(20, 10)\n",
        "\n",
        "  def forward(self, x):\n",
        "    # TODO: define your forward function\n",
        "    x = F.max_pool2d(F.relu(self.conv1(x)), (2,2))\n",
        "    x = F.max_pool2d(F.relu(self.conv2(x)), 2)\n",
        "    x = x.view(-1,self.num_flat_features(x))\n",
        "    x = F.relu(self.fc1(x))\n",
        "    x = F.relu(self.fc2(x))\n",
        "    x = self.fc3(x)\n",
        "\n",
        "    return x\n",
        "  def num_flat_features(self, x):\n",
        "      size = x.size()[1:]\n",
        "      num_features = 1\n",
        "      for i in size:\n",
        "        num_features *= i\n",
        "      return num_features\n",
        "\n",
        "cnn_mnist = CNN().to(device)  # operate on GPU"
      ]
    },
    {
      "cell_type": "code",
      "execution_count": null,
      "metadata": {
        "colab": {
          "base_uri": "https://localhost:8080/"
        },
        "id": "Ahws_zNlBdyZ",
        "outputId": "c6e2f71e-eac7-42d0-890a-39fd93fd8ab2"
      },
      "outputs": [
        {
          "name": "stdout",
          "output_type": "stream",
          "text": [
            "\n",
            "tensor([[ 0.1778, -0.0621,  0.2263,  0.2768, -0.1955, -0.0716, -0.0496,  0.0393,\n",
            "         -0.1345, -0.0387]], grad_fn=<AddmmBackward0>)\n"
          ]
        }
      ],
      "source": [
        "print()\n",
        "input = torch.randn(1,1,14,14)\n",
        "out = cnn_mnist(input)\n",
        "print(out)"
      ]
    },
    {
      "cell_type": "code",
      "execution_count": null,
      "metadata": {
        "colab": {
          "base_uri": "https://localhost:8080/"
        },
        "id": "tEtKymsdyySz",
        "outputId": "a51e463b-e9e4-4fe4-bc0a-4f4e23defd77"
      },
      "outputs": [
        {
          "name": "stdout",
          "output_type": "stream",
          "text": [
            "loss: 2.306437 [    0/50000]\n",
            "loss: 1.525425 [12800/50000]\n",
            "loss: 0.667066 [25600/50000]\n",
            "loss: 0.605920 [38400/50000]\n",
            "loss: 0.469192 [    0/50000]\n",
            "loss: 0.315153 [12800/50000]\n",
            "loss: 0.309894 [25600/50000]\n",
            "loss: 0.321142 [38400/50000]\n",
            "loss: 0.255661 [    0/50000]\n",
            "loss: 0.201650 [12800/50000]\n",
            "loss: 0.198906 [25600/50000]\n",
            "loss: 0.258571 [38400/50000]\n",
            "loss: 0.170648 [    0/50000]\n",
            "loss: 0.146787 [12800/50000]\n",
            "loss: 0.135957 [25600/50000]\n",
            "loss: 0.202078 [38400/50000]\n",
            "loss: 0.126343 [    0/50000]\n",
            "loss: 0.120060 [12800/50000]\n",
            "loss: 0.095986 [25600/50000]\n",
            "loss: 0.163200 [38400/50000]\n",
            "loss: 0.103569 [    0/50000]\n",
            "loss: 0.109160 [12800/50000]\n",
            "loss: 0.079843 [25600/50000]\n",
            "loss: 0.136138 [38400/50000]\n",
            "loss: 0.089048 [    0/50000]\n",
            "loss: 0.104221 [12800/50000]\n",
            "loss: 0.073218 [25600/50000]\n",
            "loss: 0.118063 [38400/50000]\n",
            "loss: 0.082642 [    0/50000]\n",
            "loss: 0.099432 [12800/50000]\n",
            "loss: 0.069674 [25600/50000]\n",
            "loss: 0.102692 [38400/50000]\n",
            "loss: 0.078455 [    0/50000]\n",
            "loss: 0.094553 [12800/50000]\n",
            "loss: 0.066078 [25600/50000]\n",
            "loss: 0.088460 [38400/50000]\n",
            "loss: 0.076803 [    0/50000]\n",
            "loss: 0.092808 [12800/50000]\n",
            "loss: 0.063060 [25600/50000]\n",
            "loss: 0.081934 [38400/50000]\n"
          ]
        }
      ],
      "source": [
        "# todo: similar to MLP, train your CNN model\n",
        "n_epoch = 10\n",
        "criterion = nn.CrossEntropyLoss()\n",
        "optimizer = optim.Adam(cnn_mnist.parameters(), lr=0.001, betas=(0.9, 0.999), eps=1e-08, weight_decay=0)\n",
        "for epoch in range(n_epoch):\n",
        "  train(mnist_train_loader,cnn_mnist,criterion,optimizer)"
      ]
    },
    {
      "cell_type": "code",
      "execution_count": null,
      "metadata": {
        "colab": {
          "base_uri": "https://localhost:8080/"
        },
        "id": "4Pl6XNsF0CVH",
        "outputId": "907a6a4f-22c9-4ff1-947c-bab8bb392363"
      },
      "outputs": [
        {
          "name": "stdout",
          "output_type": "stream",
          "text": [
            "CNN(\n",
            "  (conv1): Conv2d(1, 6, kernel_size=(3, 3), stride=(1, 1))\n",
            "  (conv2): Conv2d(6, 16, kernel_size=(3, 3), stride=(1, 1))\n",
            "  (fc1): Linear(in_features=64, out_features=50, bias=True)\n",
            "  (fc2): Linear(in_features=50, out_features=20, bias=True)\n",
            "  (fc3): Linear(in_features=20, out_features=10, bias=True)\n",
            ")\n",
            "Test Error: \n",
            " Accuracy: 96.9%,Avg loss: 0.103943 \n",
            "\n"
          ]
        }
      ],
      "source": [
        "print(cnn_mnist)\n",
        "# todo: use your test() to test your CNN on val set\n",
        "test(mnist_valid_loader,cnn_mnist,criterion)\n"
      ]
    },
    {
      "cell_type": "markdown",
      "metadata": {
        "id": "AYERJpbVn-5x"
      },
      "source": [
        "## Problem 3: Image Classification by CNN"
      ]
    },
    {
      "cell_type": "markdown",
      "metadata": {
        "id": "Fj3L0DrOM88X"
      },
      "source": [
        "Write code to load and visualize the CIFAR-10 dataset.\n",
        "\n",
        "CIFAR-10 dataset has the classes (listed below): ‘airplane’, ‘automobile’, ‘bird’, ‘cat’, ‘deer’, ‘dog’, ‘frog’, ‘horse’, ‘ship’, ‘truck’. The images in CIFAR-10 are of size $3 \\times 32 \\times 32$, i.e. 3-channel color images of $32 \\times 32$ pixels in size.\n",
        "\n",
        "<h4>Note:</h4>\n",
        "The output of torchvision datasets are PILImage images of range [0, 1].\n",
        "We transform them to Tensors of normalized range [-1, 1]."
      ]
    },
    {
      "cell_type": "code",
      "execution_count": null,
      "metadata": {
        "colab": {
          "base_uri": "https://localhost:8080/"
        },
        "id": "mqnizXadNh8b",
        "outputId": "201ade2e-ed65-4284-d2cd-4a2583e73ebe"
      },
      "outputs": [
        {
          "output_type": "stream",
          "name": "stdout",
          "text": [
            "Files already downloaded and verified\n",
            "Files already downloaded and verified\n"
          ]
        }
      ],
      "source": [
        "from torchvision import transforms, datasets\n",
        "from torch.utils.data import TensorDataset, DataLoader\n",
        "classes = ('plane', 'car', 'bird', 'cat', 'deer', 'dog', 'frog', 'horse',\n",
        "           'ship', 'truck')\n",
        "transform = transforms.Compose(\n",
        "    [transforms.ToTensor(),\n",
        "     transforms.Normalize((0.5, 0.5, 0.5), (0.5, 0.5, 0.5))])\n",
        "\n",
        "cifar10_trainset = datasets.CIFAR10(root='./data/', train=True, download=True, transform=transform)\n",
        "cifar10_testset = datasets.CIFAR10(root='./data/', train=False, download=True, transform=transform)\n",
        "\n",
        "cifar_loader = DataLoader(cifar10_trainset, batch_size=len(cifar10_trainset), shuffle=False)\n",
        "cifar_test_loader = DataLoader(cifar10_testset, batch_size=len(cifar10_testset), shuffle=False)"
      ]
    },
    {
      "cell_type": "code",
      "source": [
        "from torch.utils.data import DataLoader\n",
        "\n",
        "for idx , (img , label) in enumerate(cifar_loader) :\n",
        "      print(img.size() , label.size())\n",
        "      print(label)\n",
        "      break"
      ],
      "metadata": {
        "colab": {
          "base_uri": "https://localhost:8080/"
        },
        "id": "HuKhqvc6cjJJ",
        "outputId": "92191c97-f7f1-41a3-bc58-609e38b9e5d3"
      },
      "execution_count": null,
      "outputs": [
        {
          "output_type": "stream",
          "name": "stdout",
          "text": [
            "torch.Size([50000, 3, 32, 32]) torch.Size([50000])\n",
            "tensor([6, 9, 9,  ..., 9, 1, 1])\n"
          ]
        }
      ]
    },
    {
      "cell_type": "code",
      "execution_count": null,
      "metadata": {
        "colab": {
          "base_uri": "https://localhost:8080/",
          "height": 983
        },
        "id": "igESHithODja",
        "outputId": "1d98b358-8eda-4464-ea37-77711e1cbf1b"
      },
      "outputs": [
        {
          "output_type": "display_data",
          "data": {
            "text/plain": [
              "<Figure size 1200x1200 with 25 Axes>"
            ],
            "image/png": "[encoded data removed]"
          },
          "metadata": {}
        }
      ],
      "source": [
        "import numpy as np\n",
        "import matplotlib.pyplot as plt\n",
        "from matplotlib import cm\n",
        "\n",
        "def cifar_imshow(img):\n",
        "  img = img /2 + 0.5     # unnormalize\n",
        "  npimg = img.numpy()\n",
        "  return np.transpose(npimg, (1, 2, 0))\n",
        "\n",
        "# TODO: visualize some samples in the CIFAR-10 dataset\n",
        "fig, axs = plt.subplots(5, 5, figsize = (12, 12))\n",
        "\n",
        "# loop through subplots and add mnist images\n",
        "for i, ax in enumerate(axs.flat):\n",
        "\n",
        "  ax.imshow(cifar_imshow(cifar10_trainset[i][0]))\n",
        "  ax.axis('off')\n",
        "  ax.set_title('{}'.format(classes[cifar10_trainset[i][1]]))"
      ]
    },
    {
      "cell_type": "code",
      "source": [
        "cifar10_trainset[1][1]"
      ],
      "metadata": {
        "colab": {
          "base_uri": "https://localhost:8080/"
        },
        "id": "ZzdHi-7JAL2i",
        "outputId": "fdc36f39-73fc-4cfc-be66-3fd0aeaf3633"
      },
      "execution_count": null,
      "outputs": [
        {
          "output_type": "execute_result",
          "data": {
            "text/plain": [
              "9"
            ]
          },
          "metadata": {},
          "execution_count": 10
        }
      ]
    },
    {
      "cell_type": "markdown",
      "metadata": {
        "id": "Qc4DHtXvjocy"
      },
      "source": [
        "#### Data Augmentation"
      ]
    },
    {
      "cell_type": "code",
      "execution_count": null,
      "metadata": {
        "colab": {
          "base_uri": "https://localhost:8080/"
        },
        "id": "IhG9dwnLjs-J",
        "outputId": "9e2c92d4-150f-436d-ee33-c08e1de1f1eb"
      },
      "outputs": [
        {
          "output_type": "stream",
          "name": "stdout",
          "text": [
            "Files already downloaded and verified\n",
            "Files already downloaded and verified\n",
            "Files already downloaded and verified\n",
            "Files already downloaded and verified\n",
            "Files already downloaded and verified\n",
            "Files already downloaded and verified\n"
          ]
        }
      ],
      "source": [
        "from torch.utils.data import ConcatDataset\n",
        "\n",
        "transform1 = transforms.Compose(\n",
        "    [transforms.ToTensor(),\n",
        "     transforms.Normalize((0.5, 0.5, 0.5), (0.5, 0.5, 0.5))])\n",
        "\n",
        "# todo: Implements transforms\n",
        "\n",
        "# Shifting: randomly shift the images up/down and left/right by within 10%.\n",
        "transform2 = transforms.Compose([\n",
        "    transforms.RandomAffine(degrees=0, translate=(0.1, 0.1)),\n",
        "    transforms.ToTensor(),\n",
        "    transforms.Normalize((0.5, 0.5, 0.5), (0.5, 0.5, 0.5))])\n",
        "\n",
        "# Rotating: randomly rotate the images by some angles.\n",
        "transform3 = transforms.Compose([\n",
        "    transforms.RandomAffine(degrees=45),\n",
        "    transforms.ToTensor(),\n",
        "    transforms.Normalize((0.5, 0.5, 0.5), (0.5, 0.5, 0.5))])\n",
        "\n",
        "# Flipping: horizontally flip the images.\n",
        "# I'm not sure whether flipping need \"random\" or not.So I set p=1\n",
        "transform4 = transforms.Compose(\n",
        "    [transforms.RandomHorizontalFlip(p=1),\n",
        "     transforms.ToTensor(),\n",
        "     transforms.Normalize((0.5, 0.5, 0.5), (0.5, 0.5, 0.5))])\n",
        "\n",
        "# Adding Noise: randomly add some small Gaussian noise to the images.\n",
        "transform5 = transforms.Compose([transforms.RandomApply([transforms.GaussianBlur(kernel_size=3)], p=0.5),\n",
        "    transforms.ToTensor(),\n",
        "    transforms.Normalize((0.5, 0.5, 0.5), (0.5, 0.5, 0.5)),\n",
        "    ])\n",
        "\n",
        "transform_list = [transform1, transform2, transform3, transform4, transform5]\n",
        "augmented_dataset = []\n",
        "for t in transform_list:\n",
        "  augmented_dataset.append(datasets.CIFAR10(root='./data/', train=True, download=True, transform=t))\n",
        "\n",
        "cifar_train_dataset = ConcatDataset(augmented_dataset)\n",
        "cifar10_testset = datasets.CIFAR10(root='./data/', train=False, download=True, transform=transform1)\n",
        "cifar_test_loader = DataLoader(cifar10_testset, batch_size=128, shuffle=False)"
      ]
    },
    {
      "cell_type": "markdown",
      "metadata": {
        "id": "oeOA4vRbV3Pq"
      },
      "source": [
        "Define a CNN to do classification on CIFAR-10 dataset. You can build a CNN from the previous problem and modify it to take 3-channel images (instead of 1-channel images as it was defined).\n",
        "\n",
        "**Note**: remember to keep the logs of training the different models."
      ]
    },
    {
      "cell_type": "markdown",
      "metadata": {
        "id": "FWIdpUo_n65F"
      },
      "source": [
        "(1) Define a CNN using PyTorch to do image classification. Develop the CNN from the previous PyTorch NN tutorial."
      ]
    },
    {
      "cell_type": "code",
      "source": [
        "# use GPU to train if possible\n",
        "import torch\n",
        "device = torch.device(\"cuda:0\" if torch.cuda.is_available() else \"cpu\")\n",
        "print(device)\n"
      ],
      "metadata": {
        "colab": {
          "base_uri": "https://localhost:8080/"
        },
        "id": "IxU1_vZBu-Qv",
        "outputId": "a21f7718-4c0a-49a3-c5e8-c17dbb138857"
      },
      "execution_count": null,
      "outputs": [
        {
          "output_type": "stream",
          "name": "stdout",
          "text": [
            "cuda:0\n"
          ]
        }
      ]
    },
    {
      "cell_type": "code",
      "execution_count": null,
      "metadata": {
        "id": "TzXPX4rm7Epz"
      },
      "outputs": [],
      "source": [
        "import torch.nn as nn\n",
        "import torch.nn.functional as F\n",
        "\n",
        "class CNN1(nn.Module):\n",
        "  def __init__(self):\n",
        "    super(CNN1,self).__init__()\n",
        "    # TODO: define your CNN\n",
        "    self.conv1 = nn.Conv2d(3,12,kernel_size=3, dilation=1,stride=1,padding =\"same\")\n",
        "    self.conv2 = nn.Conv2d(12,32,kernel_size=5, dilation=1,stride=1,padding =\"same\")\n",
        "    self.conv3 = nn.Conv2d(32,32,kernel_size=3, dilation=1,stride=1,padding =\"same\")\n",
        "    self.conv4 = nn.Conv2d(32,32,kernel_size=5, dilation=1,stride=1,padding =\"same\")\n",
        "    self.conv5 = nn.Conv2d(32,64,kernel_size=3, dilation=1,stride=1,padding =\"same\")\n",
        "\n",
        "\n",
        "    self.fc1 = nn.Linear(512, 128)\n",
        "    self.dropout = nn.Dropout(p=0.3)\n",
        "    self.fc2 = nn.Linear(128, 20)\n",
        "    self.fc3 = nn.Linear(20, 10)\n",
        "    # self.fc5 = nn.Linear(20, 10)\n",
        "\n",
        "\n",
        "  def forward(self, x):\n",
        "    # TODO: define your forward function\n",
        "\n",
        "\n",
        "    x = F.relu(self.conv1(x))\n",
        "    x = F.max_pool2d(F.relu(self.conv2(x)),2)\n",
        "    x = self.dropout(x)\n",
        "    x = F.relu(self.conv3(x))\n",
        "    x = F.max_pool2d(F.relu(self.conv4(x)),2)\n",
        "    x = self.dropout(x)\n",
        "    x = F.relu(self.conv5(x))\n",
        "\n",
        "\n",
        "    x = x.view(-1,self.num_flat_features(x))\n",
        "    x = F.relu(self.fc1(x))\n",
        "    x = self.dropout(x)\n",
        "    x = F.relu(self.fc2(x))\n",
        "    x = self.dropout(x)\n",
        "    x = (self.fc3(x))\n",
        "\n",
        "    return x\n",
        "\n",
        "  def num_flat_features(self, x):\n",
        "    size = x.size()[1:]\n",
        "    num_features = 1\n",
        "    for i in size:\n",
        "      num_features *= i\n",
        "    return num_features\n",
        "\n",
        "cnn1 = CNN1().to(device)  # operate on GPU"
      ]
    },
    {
      "cell_type": "code",
      "source": [
        "# TODO: write your training code\n",
        "def train(dataloader,model,loss_fn,optimizer):\n",
        "  device = torch.device(\"cuda:0\" if torch.cuda.is_available() else \"cpu\")\n",
        "  size = len(dataloader.dataset)\n",
        "  for batch,(X,y) in enumerate(dataloader):\n",
        "    X = X.to(device=device)\n",
        "    y = y.to(device=device)\n",
        "    pred = model(X)\n",
        "    loss = loss_fn(pred,y)\n",
        "\n",
        "    optimizer.zero_grad()\n",
        "    loss.backward()\n",
        "    optimizer.step()\n",
        "    if batch % 100 == 0:\n",
        "      loss, current = loss.item(), batch * len(X)\n",
        "      print(f\"loss: {loss:>7f} [{current:>5d}/{size:>5d}]\")\n",
        "\n",
        "# TODO: write your testing code\n",
        "def test(dataloader,model,loss_fn):\n",
        "  size = len(dataloader.dataset)\n",
        "  num_batches = len(dataloader)\n",
        "  test_loss,correct = 0 ,0\n",
        "\n",
        "  with torch.no_grad():\n",
        "    for x,y in dataloader:\n",
        "      pred = model(x)\n",
        "      test_loss += loss_fn(pred,y).item()\n",
        "      correct += (pred.argmax(1) == y).type(torch.float).sum().item()\n",
        "  test_loss /= num_batches\n",
        "  correct /= size\n",
        "  print(f\"Test Error: \\n Accuracy: {(100*correct):>0.1f}%,Avg loss: {test_loss:>8f} \\n\")\n"
      ],
      "metadata": {
        "id": "NcpoWqr4vCXN"
      },
      "execution_count": null,
      "outputs": []
    },
    {
      "cell_type": "markdown",
      "metadata": {
        "id": "hfi4oC0bhHxg"
      },
      "source": [
        "Define a loss function and optimizer."
      ]
    },
    {
      "cell_type": "code",
      "execution_count": null,
      "metadata": {
        "id": "lIikPKNI7Ep2"
      },
      "outputs": [],
      "source": [
        "import torch.optim as optim\n",
        "\n",
        "# TODO: you can change loss function and optimizer\n",
        "criterion = nn.CrossEntropyLoss()\n",
        "optimizer = optim.Adam(cnn1.parameters(), lr=0.001, betas=(0.9, 0.999), eps=1e-08, weight_decay=0)"
      ]
    },
    {
      "cell_type": "markdown",
      "source": [
        "Train the network."
      ],
      "metadata": {
        "id": "Aif7i4ZpzWP4"
      }
    },
    {
      "cell_type": "code",
      "source": [
        "# todo: use your train() to train your cnn1\n",
        "cifar_train_loader = DataLoader(cifar_train_dataset, batch_size=128, shuffle=False)\n",
        "n_epoch=5\n",
        "for epoch in range(n_epoch):\n",
        "  train(cifar_loader,cnn1,criterion,optimizer)"
      ],
      "metadata": {
        "id": "ARo7tax_Yw0W",
        "colab": {
          "base_uri": "https://localhost:8080/",
          "height": 393
        },
        "outputId": "d7f39763-04ac-4fd2-bf96-7d6f750318ee"
      },
      "execution_count": null,
      "outputs": [
        {
          "output_type": "error",
          "ename": "OutOfMemoryError",
          "evalue": "ignored",
          "traceback": [
            "\u001b[0;31m---------------------------------------------------------------------------\u001b[0m",
            "\u001b[0;31mOutOfMemoryError\u001b[0m                          Traceback (most recent call last)",
            "\u001b[0;32m<ipython-input-16-9b01f2a9bb67>\u001b[0m in \u001b[0;36m<cell line: 4>\u001b[0;34m()\u001b[0m\n\u001b[1;32m      3\u001b[0m \u001b[0mn_epoch\u001b[0m\u001b[0;34m=\u001b[0m\u001b[0;36m5\u001b[0m\u001b[0;34m\u001b[0m\u001b[0;34m\u001b[0m\u001b[0m\n\u001b[1;32m      4\u001b[0m \u001b[0;32mfor\u001b[0m \u001b[0mepoch\u001b[0m \u001b[0;32min\u001b[0m \u001b[0mrange\u001b[0m\u001b[0;34m(\u001b[0m\u001b[0mn_epoch\u001b[0m\u001b[0;34m)\u001b[0m\u001b[0;34m:\u001b[0m\u001b[0;34m\u001b[0m\u001b[0;34m\u001b[0m\u001b[0m\n\u001b[0;32m----> 5\u001b[0;31m   \u001b[0mtrain\u001b[0m\u001b[0;34m(\u001b[0m\u001b[0mcifar_loader\u001b[0m\u001b[0;34m,\u001b[0m\u001b[0mcnn1\u001b[0m\u001b[0;34m,\u001b[0m\u001b[0mcriterion\u001b[0m\u001b[0;34m,\u001b[0m\u001b[0moptimizer\u001b[0m\u001b[0;34m)\u001b[0m\u001b[0;34m\u001b[0m\u001b[0;34m\u001b[0m\u001b[0m\n\u001b[0m",
            "\u001b[0;32m<ipython-input-14-3ad91dc684de>\u001b[0m in \u001b[0;36mtrain\u001b[0;34m(dataloader, model, loss_fn, optimizer)\u001b[0m\n\u001b[1;32m      6\u001b[0m     \u001b[0mX\u001b[0m \u001b[0;34m=\u001b[0m \u001b[0mX\u001b[0m\u001b[0;34m.\u001b[0m\u001b[0mto\u001b[0m\u001b[0;34m(\u001b[0m\u001b[0mdevice\u001b[0m\u001b[0;34m=\u001b[0m\u001b[0mdevice\u001b[0m\u001b[0;34m)\u001b[0m\u001b[0;34m\u001b[0m\u001b[0;34m\u001b[0m\u001b[0m\n\u001b[1;32m      7\u001b[0m     \u001b[0my\u001b[0m \u001b[0;34m=\u001b[0m \u001b[0my\u001b[0m\u001b[0;34m.\u001b[0m\u001b[0mto\u001b[0m\u001b[0;34m(\u001b[0m\u001b[0mdevice\u001b[0m\u001b[0;34m=\u001b[0m\u001b[0mdevice\u001b[0m\u001b[0;34m)\u001b[0m\u001b[0;34m\u001b[0m\u001b[0;34m\u001b[0m\u001b[0m\n\u001b[0;32m----> 8\u001b[0;31m     \u001b[0mpred\u001b[0m \u001b[0;34m=\u001b[0m \u001b[0mmodel\u001b[0m\u001b[0;34m(\u001b[0m\u001b[0mX\u001b[0m\u001b[0;34m)\u001b[0m\u001b[0;34m\u001b[0m\u001b[0;34m\u001b[0m\u001b[0m\n\u001b[0m\u001b[1;32m      9\u001b[0m     \u001b[0mloss\u001b[0m \u001b[0;34m=\u001b[0m \u001b[0mloss_fn\u001b[0m\u001b[0;34m(\u001b[0m\u001b[0mpred\u001b[0m\u001b[0;34m,\u001b[0m\u001b[0my\u001b[0m\u001b[0;34m)\u001b[0m\u001b[0;34m\u001b[0m\u001b[0;34m\u001b[0m\u001b[0m\n\u001b[1;32m     10\u001b[0m \u001b[0;34m\u001b[0m\u001b[0m\n",
            "\u001b[0;32m/usr/local/lib/python3.10/dist-packages/torch/nn/modules/module.py\u001b[0m in \u001b[0;36m_call_impl\u001b[0;34m(self, *args, **kwargs)\u001b[0m\n\u001b[1;32m   1499\u001b[0m                 \u001b[0;32mor\u001b[0m \u001b[0m_global_backward_pre_hooks\u001b[0m \u001b[0;32mor\u001b[0m \u001b[0m_global_backward_hooks\u001b[0m\u001b[0;34m\u001b[0m\u001b[0;34m\u001b[0m\u001b[0m\n\u001b[1;32m   1500\u001b[0m                 or _global_forward_hooks or _global_forward_pre_hooks):\n\u001b[0;32m-> 1501\u001b[0;31m             \u001b[0;32mreturn\u001b[0m \u001b[0mforward_call\u001b[0m\u001b[0;34m(\u001b[0m\u001b[0;34m*\u001b[0m\u001b[0margs\u001b[0m\u001b[0;34m,\u001b[0m \u001b[0;34m**\u001b[0m\u001b[0mkwargs\u001b[0m\u001b[0;34m)\u001b[0m\u001b[0;34m\u001b[0m\u001b[0;34m\u001b[0m\u001b[0m\n\u001b[0m\u001b[1;32m   1502\u001b[0m         \u001b[0;31m# Do not call functions when jit is used\u001b[0m\u001b[0;34m\u001b[0m\u001b[0;34m\u001b[0m\u001b[0m\n\u001b[1;32m   1503\u001b[0m         \u001b[0mfull_backward_hooks\u001b[0m\u001b[0;34m,\u001b[0m \u001b[0mnon_full_backward_hooks\u001b[0m \u001b[0;34m=\u001b[0m \u001b[0;34m[\u001b[0m\u001b[0;34m]\u001b[0m\u001b[0;34m,\u001b[0m \u001b[0;34m[\u001b[0m\u001b[0;34m]\u001b[0m\u001b[0;34m\u001b[0m\u001b[0;34m\u001b[0m\u001b[0m\n",
            "\u001b[0;32m<ipython-input-13-37279ce45a1b>\u001b[0m in \u001b[0;36mforward\u001b[0;34m(self, x)\u001b[0m\n\u001b[1;32m     25\u001b[0m \u001b[0;34m\u001b[0m\u001b[0m\n\u001b[1;32m     26\u001b[0m     \u001b[0mx\u001b[0m \u001b[0;34m=\u001b[0m \u001b[0mF\u001b[0m\u001b[0;34m.\u001b[0m\u001b[0mrelu\u001b[0m\u001b[0;34m(\u001b[0m\u001b[0mself\u001b[0m\u001b[0;34m.\u001b[0m\u001b[0mconv1\u001b[0m\u001b[0;34m(\u001b[0m\u001b[0mx\u001b[0m\u001b[0;34m)\u001b[0m\u001b[0;34m)\u001b[0m\u001b[0;34m\u001b[0m\u001b[0;34m\u001b[0m\u001b[0m\n\u001b[0;32m---> 27\u001b[0;31m     \u001b[0mx\u001b[0m \u001b[0;34m=\u001b[0m \u001b[0mF\u001b[0m\u001b[0;34m.\u001b[0m\u001b[0mmax_pool2d\u001b[0m\u001b[0;34m(\u001b[0m\u001b[0mF\u001b[0m\u001b[0;34m.\u001b[0m\u001b[0mrelu\u001b[0m\u001b[0;34m(\u001b[0m\u001b[0mself\u001b[0m\u001b[0;34m.\u001b[0m\u001b[0mconv2\u001b[0m\u001b[0;34m(\u001b[0m\u001b[0mx\u001b[0m\u001b[0;34m)\u001b[0m\u001b[0;34m)\u001b[0m\u001b[0;34m,\u001b[0m\u001b[0;36m2\u001b[0m\u001b[0;34m)\u001b[0m\u001b[0;34m\u001b[0m\u001b[0;34m\u001b[0m\u001b[0m\n\u001b[0m\u001b[1;32m     28\u001b[0m     \u001b[0mx\u001b[0m \u001b[0;34m=\u001b[0m \u001b[0mself\u001b[0m\u001b[0;34m.\u001b[0m\u001b[0mdropout\u001b[0m\u001b[0;34m(\u001b[0m\u001b[0mx\u001b[0m\u001b[0;34m)\u001b[0m\u001b[0;34m\u001b[0m\u001b[0;34m\u001b[0m\u001b[0m\n\u001b[1;32m     29\u001b[0m     \u001b[0mx\u001b[0m \u001b[0;34m=\u001b[0m \u001b[0mF\u001b[0m\u001b[0;34m.\u001b[0m\u001b[0mrelu\u001b[0m\u001b[0;34m(\u001b[0m\u001b[0mself\u001b[0m\u001b[0;34m.\u001b[0m\u001b[0mconv3\u001b[0m\u001b[0;34m(\u001b[0m\u001b[0mx\u001b[0m\u001b[0;34m)\u001b[0m\u001b[0;34m)\u001b[0m\u001b[0;34m\u001b[0m\u001b[0;34m\u001b[0m\u001b[0m\n",
            "\u001b[0;32m/usr/local/lib/python3.10/dist-packages/torch/nn/functional.py\u001b[0m in \u001b[0;36mrelu\u001b[0;34m(input, inplace)\u001b[0m\n\u001b[1;32m   1455\u001b[0m         \u001b[0mresult\u001b[0m \u001b[0;34m=\u001b[0m \u001b[0mtorch\u001b[0m\u001b[0;34m.\u001b[0m\u001b[0mrelu_\u001b[0m\u001b[0;34m(\u001b[0m\u001b[0minput\u001b[0m\u001b[0;34m)\u001b[0m\u001b[0;34m\u001b[0m\u001b[0;34m\u001b[0m\u001b[0m\n\u001b[1;32m   1456\u001b[0m     \u001b[0;32melse\u001b[0m\u001b[0;34m:\u001b[0m\u001b[0;34m\u001b[0m\u001b[0;34m\u001b[0m\u001b[0m\n\u001b[0;32m-> 1457\u001b[0;31m         \u001b[0mresult\u001b[0m \u001b[0;34m=\u001b[0m \u001b[0mtorch\u001b[0m\u001b[0;34m.\u001b[0m\u001b[0mrelu\u001b[0m\u001b[0;34m(\u001b[0m\u001b[0minput\u001b[0m\u001b[0;34m)\u001b[0m\u001b[0;34m\u001b[0m\u001b[0;34m\u001b[0m\u001b[0m\n\u001b[0m\u001b[1;32m   1458\u001b[0m     \u001b[0;32mreturn\u001b[0m \u001b[0mresult\u001b[0m\u001b[0;34m\u001b[0m\u001b[0;34m\u001b[0m\u001b[0m\n\u001b[1;32m   1459\u001b[0m \u001b[0;34m\u001b[0m\u001b[0m\n",
            "\u001b[0;31mOutOfMemoryError\u001b[0m: CUDA out of memory. Tried to allocate 6.10 GiB (GPU 0; 14.75 GiB total capacity; 8.97 GiB already allocated; 4.78 GiB free; 8.97 GiB reserved in total by PyTorch) If reserved memory is >> allocated memory try setting max_split_size_mb to avoid fragmentation.  See documentation for Memory Management and PYTORCH_CUDA_ALLOC_CONF"
          ]
        }
      ]
    },
    {
      "cell_type": "markdown",
      "metadata": {
        "id": "-RGeRQxR7EqG"
      },
      "source": [
        "Evaluate the classfication performance on the testing set."
      ]
    },
    {
      "cell_type": "code",
      "execution_count": null,
      "metadata": {
        "colab": {
          "base_uri": "https://localhost:8080/"
        },
        "id": "9IERp19p7EqH",
        "outputId": "833bf475-f7ea-4664-9d80-6ef4c40c39b5"
      },
      "outputs": [
        {
          "output_type": "stream",
          "name": "stdout",
          "text": [
            "Test Error: \n",
            " Accuracy: 64.2%,Avg loss: 1.077902 \n",
            "\n"
          ]
        }
      ],
      "source": [
        "# todo: use your test() to test your cnn1\n",
        "\n",
        "test(cifar_test_loader,cnn1,criterion)"
      ]
    },
    {
      "cell_type": "markdown",
      "metadata": {
        "id": "CFCCqT5LAJ29"
      },
      "source": [
        "(2) Try different network parameters/configurations (at least 5 combinations).\n",
        "\n",
        "You should try to achieve at least **80%** accuracy on the CIFAR-10 testing set using one of your network configuration.\n"
      ]
    },
    {
      "cell_type": "markdown",
      "metadata": {
        "id": "S2RLIjq3nfoC"
      },
      "source": [
        "Performances using different configurations\n",
        "\n",
        "todo: past your performance v.s different network configurations in a table."
      ]
    },
    {
      "cell_type": "code",
      "source": [
        "class reach_80_percent(nn.Module):\n",
        "  def __init__(self):\n",
        "    super(reach_80_percent,self).__init__()\n",
        "    # TODO: define your CNN\n",
        "    self.conv1 = nn.Conv2d(3,16,kernel_size=3, dilation=1,stride=1,padding =\"same\")\n",
        "    self.conv2 = nn.Conv2d(16,64,kernel_size=5, dilation=1,stride=1,padding =\"same\")\n",
        "    self.conv3 = nn.Conv2d(64,64,kernel_size=3, dilation=1,stride=1,padding =\"same\")\n",
        "    self.conv4 = nn.Conv2d(64,128,kernel_size=5, dilation=1,stride=1,padding =\"same\")\n",
        "    self.conv5 = nn.Conv2d(128,256,kernel_size=3, dilation=1,stride=1,padding =\"same\")\n",
        "    self.fc1 = nn.Linear(4096, 10)\n",
        "    self.dropout = nn.Dropout(p=0.3)\n",
        "\n",
        "  def forward(self, x):\n",
        "    # TODO: define your forward function\n",
        "\n",
        "\n",
        "    x = F.relu(self.conv1(x))\n",
        "    x = F.max_pool2d(F.relu(self.conv2(x)),2)\n",
        "    x = self.dropout(x)\n",
        "    x = F.relu(self.conv3(x))\n",
        "    x = F.max_pool2d(F.relu(self.conv4(x)),2)\n",
        "    x = self.dropout(x)\n",
        "    x = F.max_pool2d(F.relu(self.conv5(x)),2)\n",
        "    x = self.dropout(x)\n",
        "\n",
        "    x = x.view(-1,self.num_flat_features(x))\n",
        "    x = (self.fc1(x))\n",
        "\n",
        "    return x\n",
        "\n",
        "  def num_flat_features(self, x):\n",
        "    size = x.size()[1:]\n",
        "    num_features = 1\n",
        "    for i in size:\n",
        "      num_features *= i\n",
        "    return num_features\n"
      ],
      "metadata": {
        "id": "EwUksOOfHFuQ"
      },
      "execution_count": null,
      "outputs": []
    },
    {
      "cell_type": "markdown",
      "source": [
        "![image.png](data:image/png;base64,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)"
      ],
      "metadata": {
        "id": "mtlCOwQ7yaT6"
      }
    },
    {
      "cell_type": "code",
      "execution_count": null,
      "metadata": {
        "id": "m6uyCaHrxe25",
        "colab": {
          "base_uri": "https://localhost:8080/"
        },
        "outputId": "204011d5-3c8f-486e-fef9-9cbedaa5fc63"
      },
      "outputs": [
        {
          "output_type": "stream",
          "name": "stdout",
          "text": [
            "+--------------------------------------------------------------+----------------------+----------------+------------+-----------------+------------+------------+\n",
            "| # of conv                                                    | Kernel size (conv)   | Stride (cov)   | Dilation   | Dropout in FC   | Accuracy   |   Avg loss |\n",
            "+==============================================================+======================+================+============+=================+============+============+\n",
            "| 2(conv:2,pool:1)(3~96~256,output:10)                         | 3X3                  | 1X1            | 1X1        | 0%              | 68.7%      |   0.907188 |\n",
            "+--------------------------------------------------------------+----------------------+----------------+------------+-----------------+------------+------------+\n",
            "| 2(conv:2,pool:1)(3~96~256,output:10)                         | 5X5                  | 1X1            | 1X1        | 30%             | 64.5%      |   1.04155  |\n",
            "+--------------------------------------------------------------+----------------------+----------------+------------+-----------------+------------+------------+\n",
            "| 2(conv:2,pool:1)(3~16~32,output:10)                          | 5X5                  | 1X1            | 1X1        | 0%              | 71.1%      |   0.83932  |\n",
            "+--------------------------------------------------------------+----------------------+----------------+------------+-----------------+------------+------------+\n",
            "| 2(conv:2,pool:0)(3~96~256,output:10)                         | 5X5                  | 1X1            | 3X3        | 0%              | 60.7%      |   1.1018   |\n",
            "+--------------------------------------------------------------+----------------------+----------------+------------+-----------------+------------+------------+\n",
            "| 5(conv:5,pool:1)(3~16~32~64~128~256,output:10)               | 3X3                  | 1X1            | 1X1        | 0%              | 73.3%      |   0.808547 |\n",
            "+--------------------------------------------------------------+----------------------+----------------+------------+-----------------+------------+------------+\n",
            "| 5(conv:5,pool:0)(3~16~32~64~128~256,output:10)               | 5X5                  | 3X3            | 1X1        | 30%             | 65.8%      |   0.953903 |\n",
            "+--------------------------------------------------------------+----------------------+----------------+------------+-----------------+------------+------------+\n",
            "| 5(conv:5,pool:3,mlp:3)(3~16~32~64~93~128~256~128,output:10)  | 3X3(2),5X5(3)        | 1X1            | 1X1        | 30%             | 76.2%      |   0.727394 |\n",
            "+--------------------------------------------------------------+----------------------+----------------+------------+-----------------+------------+------------+\n",
            "| 5(conv:5,pool:3)(3~16~64~64~128~256,output:10)               | 3X3(4),5X5(1)        | 1X1            | 1X1        | 30%             | 78.6%      |   0.651914 |\n",
            "+--------------------------------------------------------------+----------------------+----------------+------------+-----------------+------------+------------+\n",
            "| 5(conv:5,pool:3)(3~64~64~64~128~256,output:10)               | 3X3(3),5X5(2)        | 1X1            | 1X1        | 30%             | 80.0%      |   0.61305  |\n",
            "+--------------------------------------------------------------+----------------------+----------------+------------+-----------------+------------+------------+\n",
            "| 9(conv:9,pool:4)(3~6~16~32~64~128~256~300~512~600,output:10) | 3X3                  | 1X1            | 1X1        | 0%              | 59.5%      |   1.12809  |\n",
            "+--------------------------------------------------------------+----------------------+----------------+------------+-----------------+------------+------------+\n",
            "| 9(conv:9,pool:4)(3~12~32~32~32~64~64~64~128~128,output:10)   | 3X3(5),5X5(4)        | 1X1            | 1X1        | 30%             | 64.2%      |   1.0779   |\n",
            "+--------------------------------------------------------------+----------------------+----------------+------------+-----------------+------------+------------+\n"
          ]
        }
      ],
      "source": [
        "from tabulate import tabulate\n",
        "\n",
        "headers = [\"# of conv\", \"Kernel size (conv)\", \"Stride (cov)\",\"Dilation\",\"Dropout in FC\",\"Accuracy\",\"Avg loss\"]\n",
        "data = [[\"2(conv:2,pool:1)(3~96~256,output:10)\", \"3X3\",\"1X1\",\"1X1\" ,\"0%\",\"68.7%\",\"0.907188\"],\n",
        "        [\"2(conv:2,pool:1)(3~96~256,output:10)\", \"5X5\",\"1X1\",\"1X1\" ,\"30%\",\"64.5%\",\"1.041546 \"],\n",
        "        [\"2(conv:2,pool:1)(3~16~32,output:10)\", \"5X5\",\"1X1\",\"1X1\" ,\"0%\",\"71.1%\",\"0.839320 \"],\n",
        "        [\"2(conv:2,pool:0)(3~96~256,output:10)\", \"5X5\",\"1X1\",\"3X3\" ,\"0%\",\"60.7%\",\"1.101804  \"],\n",
        "        [\"5(conv:5,pool:1)(3~16~32~64~128~256,output:10)\", \"3X3\",\"1X1\",\"1X1\" ,\"0%\",\"73.3%\",\"0.808547  \"],\n",
        "        [\"5(conv:5,pool:0)(3~16~32~64~128~256,output:10)\", \"5X5\",\"3X3\",\"1X1\" ,\"30%\",\"65.8%\",\"0.953903 \"],\n",
        "        [\"5(conv:5,pool:3,mlp:3)(3~16~32~64~93~128~256~128,output:10)\", \"3X3(2),5X5(3)\",\"1X1\",\"1X1\" ,\"30%\",\"76.2%\",\"0.727394  \"],\n",
        "        [\"5(conv:5,pool:3)(3~16~64~64~128~256,output:10)\", \"3X3(4),5X5(1)\",\"1X1\",\"1X1\" ,\"30%\",\"78.6%\",\"0.651914 \"],\n",
        "        [\"5(conv:5,pool:3)(3~16~64~64~128~256,output:10)\", \"3X3(3),5X5(2)\",\"1X1\",\"1X1\" ,\"30%\",\"80.0%\",\"0.613050 \"],\n",
        "        [\"9(conv:9,pool:4)(3~6~16~32~64~128~256~300~512~600,output:10)\", \"3X3\",\"1X1\",\"1X1\" ,\"0%\",\"59.5%\",\"1.128089 \"],\n",
        "        [\"9(conv:9,pool:4)(3~12~32~32~32~64~64~64~128~128,output:10)\", \"3X3(5),5X5(4)\",\"1X1\",\"1X1\" ,\"30%\",\"64.2%\",\"1.077902 \"],\n",
        "        ]\n",
        "\n",
        "\n",
        "table = tabulate(data, headers, tablefmt=\"grid\")\n",
        "\n",
        "print(table)"
      ]
    },
    {
      "cell_type": "markdown",
      "metadata": {
        "id": "gsOEhNpuzhlg"
      },
      "source": [
        "####  Discussion"
      ]
    },
    {
      "cell_type": "markdown",
      "metadata": {
        "id": "frupe8HZ1ylk"
      },
      "source": [
        "(1) Which framework can achieve higher accuracy, MLP or CNN? Briefly explain the reason.\n",
        "\n",
        "(2) Based on your experiments in Problem3, which parameter can potentially affect your performance most?\n",
        "\n"
      ]
    },
    {
      "cell_type": "markdown",
      "source": [
        "1.CNN can achieve higher accuracy because of it ability to characterize features.In ML the most important thing to influence the accuracy is feature,so CNN can perform better then MLP.\n",
        "\n"
      ],
      "metadata": {
        "id": "wNJicXRCcoRx"
      }
    },
    {
      "cell_type": "markdown",
      "source": [
        "2.I think the layers of conv potentially affects my performance most because the number of conv determines the depth of the network .Dropout is used to prevent overfitting,and the other parameters need try and error to determine the numbers."
      ],
      "metadata": {
        "id": "Pks6KhMYd5Ci"
      }
    }
  ],
  "metadata": {
    "colab": {
      "provenance": [],
      "include_colab_link": true
    },
    "gpuClass": "standard",
    "kernelspec": {
      "display_name": "Python 3",
      "language": "python",
      "name": "python3"
    },
    "language_info": {
      "codemirror_mode": {
        "name": "ipython",
        "version": 3
      },
      "file_extension": ".py",
      "mimetype": "text/x-python",
      "name": "python",
      "nbconvert_exporter": "python",
      "pygments_lexer": "ipython3",
      "version": "3.7.7"
    },
    "accelerator": "GPU"
  },
  "nbformat": 4,
  "nbformat_minor": 0
}